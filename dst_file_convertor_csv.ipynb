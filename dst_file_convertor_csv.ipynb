{
 "cells": [
  {
   "cell_type": "code",
   "execution_count": 10,
   "id": "9c29ad09",
   "metadata": {},
   "outputs": [
    {
     "name": "stdout",
     "output_type": "stream",
     "text": [
      " * Serving Flask app '__main__'\n",
      " * Debug mode: on\n"
     ]
    },
    {
     "name": "stderr",
     "output_type": "stream",
     "text": [
      "WARNING: This is a development server. Do not use it in a production deployment. Use a production WSGI server instead.\n",
      " * Running on http://127.0.0.1:5000\n",
      "Press CTRL+C to quit\n",
      " * Restarting with stat\n"
     ]
    },
    {
     "ename": "SystemExit",
     "evalue": "1",
     "output_type": "error",
     "traceback": [
      "An exception has occurred, use %tb to see the full traceback.\n",
      "\u001b[1;31mSystemExit\u001b[0m\u001b[1;31m:\u001b[0m 1\n"
     ]
    }
   ],
   "source": [
    "import requests\n",
    "import csv\n",
    "import pandas as pd\n",
    "from flask import Flask, request, render_template\n",
    "\n",
    "app = Flask(__name__)\n",
    "\n",
    "@app.route('/', methods = ['POST'])\n",
    "def index():\n",
    "    url = 'https://wdc.kugi.kyoto-u.ac.jp/dst_realtime/202310/dst2310.for.request'\n",
    "\n",
    "    response = requests.get(url)\n",
    "\n",
    "    lines = response.text.split('\\n')\n",
    "\n",
    "    data = [line.split() for line in lines if line]\n",
    "    #print (data)\n",
    "\n",
    "    df = pd.DataFrame(data)\n",
    "\n",
    "    df = df.iloc[:-1]\n",
    "    df = df.drop(df.columns[[0,1]], axis=1)\n",
    "    df = df.drop(df.columns[24], axis=1)\n",
    "    df.columns = ['hour' + str(i) for i in range(1, len(df.columns)+1)]\n",
    "    print(df)\n",
    "\n",
    "    # def dosaid(s):    \n",
    "    #     with open(s, \"r\") as f:\n",
    "    #         obj = csv.reader(f)\n",
    "    #         rows = []\n",
    "    #         for row in obj:\n",
    "    #             rows.append(row)\n",
    "\n",
    "\n",
    "    #     for i in range(1, len(rows)):\n",
    "    #         rows[i][0] = i\n",
    "\n",
    "\n",
    "    #     with open(s, \"w\", newline = \"\") as f:\n",
    "    #         csvwriter = csv.writer(f)\n",
    "    #         csvwriter.writerows(rows)\n",
    "\n",
    "    df.to_csv('dst_values.csv', index=False)\n",
    "    # dosaid('dst_values.csv')\n",
    "    return render_template('source.html', output_message= \"hello you work\")\n",
    "\n",
    "if __name__ == '__main__':\n",
    "    app.run(debug=True)\n"
   ]
  },
  {
   "cell_type": "code",
   "execution_count": null,
   "id": "0d1d5d3a",
   "metadata": {},
   "outputs": [],
   "source": []
  },
  {
   "cell_type": "code",
   "execution_count": null,
   "id": "61ae230a",
   "metadata": {},
   "outputs": [],
   "source": []
  }
 ],
 "metadata": {
  "kernelspec": {
   "display_name": "Python 3 (ipykernel)",
   "language": "python",
   "name": "python3"
  },
  "language_info": {
   "codemirror_mode": {
    "name": "ipython",
    "version": 3
   },
   "file_extension": ".py",
   "mimetype": "text/x-python",
   "name": "python",
   "nbconvert_exporter": "python",
   "pygments_lexer": "ipython3",
   "version": "3.11.4"
  }
 },
 "nbformat": 4,
 "nbformat_minor": 5
}
